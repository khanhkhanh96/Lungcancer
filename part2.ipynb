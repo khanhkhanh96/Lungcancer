{
  "nbformat": 4,
  "nbformat_minor": 0,
  "metadata": {
    "colab": {
      "name": "part2.ipynb",
      "version": "0.3.2",
      "provenance": [],
      "collapsed_sections": []
    },
    "kernelspec": {
      "display_name": "Python 3",
      "language": "python",
      "name": "python3"
    }
  },
  "cells": [
    {
      "metadata": {
        "id": "6XVfyN58Zc_a",
        "colab_type": "code",
        "colab": {}
      },
      "cell_type": "code",
      "source": [
        ""
      ],
      "execution_count": 0,
      "outputs": []
    },
    {
      "metadata": {
        "id": "vrYT05V6cGU9",
        "colab_type": "code",
        "colab": {}
      },
      "cell_type": "code",
      "source": [
        ""
      ],
      "execution_count": 0,
      "outputs": []
    },
    {
      "metadata": {
        "id": "oVNfNH3kkrC6",
        "colab_type": "code",
        "colab": {}
      },
      "cell_type": "code",
      "source": [
        ""
      ],
      "execution_count": 0,
      "outputs": []
    },
    {
      "metadata": {
        "id": "MuX0bimRas46",
        "colab_type": "code",
        "colab": {}
      },
      "cell_type": "code",
      "source": [
        "import zipfile\n",
        "zip_ref = zipfile.ZipFile('datafull.zip', 'r')\n",
        "zip_ref.extractall('data2')\n",
        "zip_ref.close()"
      ],
      "execution_count": 0,
      "outputs": []
    },
    {
      "metadata": {
        "id": "ibPO81V7Zc_H",
        "colab_type": "code",
        "colab": {}
      },
      "cell_type": "code",
      "source": [
        "import pandas as pd\n",
        "import keras\n",
        "import skimage.io as io\n",
        "import glob\n",
        "import numpy as np\n",
        "import csv\n",
        "import os\n",
        "from PIL import Image\n",
        "import matplotlib.pyplot as plt\n",
        "%matplotlib inline"
      ],
      "execution_count": 0,
      "outputs": []
    },
    {
      "metadata": {
        "id": "InLGL1SjZc_R",
        "colab_type": "code",
        "colab": {}
      },
      "cell_type": "code",
      "source": [
        ""
      ],
      "execution_count": 0,
      "outputs": []
    },
    {
      "metadata": {
        "id": "lUOEy2MVZc_V",
        "colab_type": "code",
        "colab": {}
      },
      "cell_type": "code",
      "source": [
        ""
      ],
      "execution_count": 0,
      "outputs": []
    },
    {
      "metadata": {
        "id": "gNQN5g7PZc_f",
        "colab_type": "code",
        "colab": {}
      },
      "cell_type": "code",
      "source": [
        "training_img = []\n",
        "training_label = []\n",
        "for dir_path in glob.glob(\"data2/*\"):\n",
        "    img_label = dir_path.split(\"/\")[-1]\n",
        "    for image_path in glob.glob(os.path.join(dir_path,\"*.npy\")):\n",
        "        \n",
        "        image = np.load(image_path)\n",
        "        training_img.append(image)\n",
        "        training_label.append(img_label)\n",
        "training_img = np.array(training_img)\n",
        "training_label = np.array(training_label)\n"
      ],
      "execution_count": 0,
      "outputs": []
    },
    {
      "metadata": {
        "id": "oKopp4b3eCMM",
        "colab_type": "code",
        "colab": {
          "base_uri": "https://localhost:8080/",
          "height": 34
        },
        "outputId": "e0fb5ab5-ba58-4223-a58e-eaee8b807d0e"
      },
      "cell_type": "code",
      "source": [
        "training_label[1550:1560]"
      ],
      "execution_count": 21,
      "outputs": [
        {
          "output_type": "execute_result",
          "data": {
            "text/plain": [
              "array(['1', '1', '1', '1', '1', '1', '1', '0', '0', '0'], dtype='<U1')"
            ]
          },
          "metadata": {
            "tags": []
          },
          "execution_count": 21
        }
      ]
    },
    {
      "metadata": {
        "id": "y98Eu74pZc_j",
        "colab_type": "code",
        "colab": {
          "base_uri": "https://localhost:8080/",
          "height": 134
        },
        "outputId": "32a3e7a7-374d-4d77-f4da-dab5a20f04bd"
      },
      "cell_type": "code",
      "source": [
        "a = training_img[1]\n",
        "a"
      ],
      "execution_count": 24,
      "outputs": [
        {
          "output_type": "execute_result",
          "data": {
            "text/plain": [
              "array([[-739, -787, -797, ..., -687, -673, -698],\n",
              "       [-731, -812, -810, ..., -710, -708, -744],\n",
              "       [-666, -815, -822, ..., -728, -744, -773],\n",
              "       ...,\n",
              "       [  38,    1,   -8, ...,   63,   74,   20],\n",
              "       [  40,   23,   39, ...,  128,  115,   63],\n",
              "       [  29,   16,   62, ...,  420,  349,  279]], dtype=int16)"
            ]
          },
          "metadata": {
            "tags": []
          },
          "execution_count": 24
        }
      ]
    },
    {
      "metadata": {
        "id": "olL37_6NZc_o",
        "colab_type": "code",
        "colab": {
          "base_uri": "https://localhost:8080/",
          "height": 266
        },
        "outputId": "e9528314-0052-4437-805f-5dd9a1ae96a1"
      },
      "cell_type": "code",
      "source": [
        "\n",
        "from matplotlib import pyplot as plt\n",
        "plt.imshow(training_img[98])\n",
        "plt.show()"
      ],
      "execution_count": 35,
      "outputs": [
        {
          "output_type": "display_data",
          "data": {
            "image/png": "[encoded data removed]",
            "text/plain": [
              "<matplotlib.figure.Figure at 0x7f982ccbf748>"
            ]
          },
          "metadata": {
            "tags": []
          }
        }
      ]
    },
    {
      "metadata": {
        "id": "caHURZvQZc_t",
        "colab_type": "code",
        "colab": {}
      },
      "cell_type": "code",
      "source": [
        "def calulate_length(a):\n",
        "    count = 0;\n",
        "    top = 0\n",
        "    bot = 0\n",
        "    left = 0\n",
        "    right = 0\n",
        "    for i in range(16):\n",
        "        if (a[15-i,15]>0):\n",
        "            top+=1\n",
        "        else:\n",
        "            break;\n",
        "    for i in range(16):\n",
        "        if (a[15+i+1,15]>0):\n",
        "            bot+=1\n",
        "        else:\n",
        "            break;\n",
        "    for i in range(16):\n",
        "        if (a[15,15-i]>0):\n",
        "            right+=1\n",
        "        else:\n",
        "            break;\n",
        "    for i in range(16):\n",
        "        if (a[15,15+i+1]>0):\n",
        "            left+=1\n",
        "        else:\n",
        "            break;\n",
        "    return max(bot+top,left+right)\n",
        "            "
      ],
      "execution_count": 0,
      "outputs": []
    },
    {
      "metadata": {
        "id": "aBM5-goGZc_y",
        "colab_type": "code",
        "colab": {},
        "outputId": "d673fd4f-4588-46de-9c55-fef45b24fea8"
      },
      "cell_type": "code",
      "source": [
        "training_label[1556]"
      ],
      "execution_count": 0,
      "outputs": [
        {
          "output_type": "execute_result",
          "data": {
            "text/plain": [
              "'dataneed\\\\0'"
            ]
          },
          "metadata": {
            "tags": []
          },
          "execution_count": 26
        }
      ]
    },
    {
      "metadata": {
        "id": "PXxkJxckZc_3",
        "colab_type": "code",
        "colab": {}
      },
      "cell_type": "code",
      "source": [
        "listlength1 = [calulate_length(img) for img in training_img[1557:]]\n",
        "listlength0 = [calulate_length(img) for img in training_img[:1556]]    "
      ],
      "execution_count": 0,
      "outputs": []
    },
    {
      "metadata": {
        "id": "Q5rgN8QAZc_7",
        "colab_type": "code",
        "colab": {}
      },
      "cell_type": "code",
      "source": [
        "listlength0 = np.asarray(listlength0)\n",
        "listlength1 = np.asarray(listlength1)"
      ],
      "execution_count": 0,
      "outputs": []
    },
    {
      "metadata": {
        "id": "IrCczq1PZdAA",
        "colab_type": "code",
        "colab": {
          "base_uri": "https://localhost:8080/",
          "height": 67
        },
        "outputId": "edeae408-362d-46f4-80c9-2e479188bf5a"
      },
      "cell_type": "code",
      "source": [
        "print(np.min(listlength1))\n",
        "print(np.max(listlength1))\n",
        "\n",
        "print(np.mean(listlength1))"
      ],
      "execution_count": 40,
      "outputs": [
        {
          "output_type": "stream",
          "text": [
            "0\n",
            "32\n",
            "2.006422607578677\n"
          ],
          "name": "stdout"
        }
      ]
    },
    {
      "metadata": {
        "id": "OgnU2zmuZdAI",
        "colab_type": "code",
        "colab": {
          "base_uri": "https://localhost:8080/",
          "height": 67
        },
        "outputId": "af51997f-3eb6-4499-f85f-1e69c504925e"
      },
      "cell_type": "code",
      "source": [
        "print(np.min(listlength0))\n",
        "print(np.max(listlength0))\n",
        "print(np.mean(listlength0))"
      ],
      "execution_count": 41,
      "outputs": [
        {
          "output_type": "stream",
          "text": [
            "0\n",
            "32\n",
            "5.859897172236503\n"
          ],
          "name": "stdout"
        }
      ]
    },
    {
      "metadata": {
        "id": "IbWHV68WZdAO",
        "colab_type": "code",
        "colab": {}
      },
      "cell_type": "code",
      "source": [
        "model = keras.models.load_model(\"weights.32-0.902.hdf5\")"
      ],
      "execution_count": 0,
      "outputs": []
    },
    {
      "metadata": {
        "id": "U2MVDQ-xc5MW",
        "colab_type": "code",
        "colab": {}
      },
      "cell_type": "code",
      "source": [
        "test = training_img[1660:1701]\n",
        "test = test.reshape(test.shape[0], 32, 32, 1)"
      ],
      "execution_count": 0,
      "outputs": []
    },
    {
      "metadata": {
        "id": "MUru9hYJbB48",
        "colab_type": "code",
        "colab": {
          "base_uri": "https://localhost:8080/",
          "height": 50
        },
        "outputId": "d40ad7de-407d-4a1b-ed04-92f021363b0f"
      },
      "cell_type": "code",
      "source": [
        "classes = model.predict_classes(test, batch_size = None)\n",
        "print(classes)"
      ],
      "execution_count": 73,
      "outputs": [
        {
          "output_type": "stream",
          "text": [
            "[0 0 0 0 0 0 0 0 1 0 0 0 0 0 0 0 0 0 0 0 0 0 0 0 0 0 0 0 0 0 0 0 0 0 0 0 0\n",
            " 0 0 0 0]\n"
          ],
          "name": "stdout"
        }
      ]
    },
    {
      "metadata": {
        "id": "KhdadkbPfn-r",
        "colab_type": "code",
        "colab": {
          "base_uri": "https://localhost:8080/",
          "height": 34
        },
        "outputId": "a3ee6d29-ae83-4207-8e9f-059f84c60536"
      },
      "cell_type": "code",
      "source": [
        "calulate_length(test[0])"
      ],
      "execution_count": 51,
      "outputs": [
        {
          "output_type": "execute_result",
          "data": {
            "text/plain": [
              "26"
            ]
          },
          "metadata": {
            "tags": []
          },
          "execution_count": 51
        }
      ]
    },
    {
      "metadata": {
        "id": "L1WDH1ktZdAX",
        "colab_type": "code",
        "colab": {}
      },
      "cell_type": "code",
      "source": [
        "from gensim.summarization import summarize\n",
        "from gensim.summarization import summarize\n",
        "text1 = \"\"\"If you only have one small tumor in your lung and there is no evidence of cancer in lymph nodes or elsewhere, your doctors may recommend surgery to remove the tumor and the nearby lymph nodes.\n",
        "\n",
        "Very few patients with SCLC are treated this way. This is only an option if you are in fairly good health and can withstand having all or part of a lung removed.\n",
        "\n",
        "Before the operation, the lymph nodes in your chest will be checked for cancer spread with mediastinoscopy or other tests, because surgery is unlikely to be a good option if the cancer has spread.\n",
        "\n",
        "Surgery is generally followed by chemotherapy. If cancer is found in the lymph nodes that were removed, radiation therapy to the chest is usually advised as well. The radiation is often given at the same time as the chemo. Although this increases the side effects of treatment, it appears to be more effective than giving one treatment after the other. You might not be given radiation therapy if you already have severe lung disease (in addition to your cancer) or other serious health problems.\n",
        "\n",
        "In about half of people with SCLC, the cancer will eventually spread to the brain if no preventive measures are taken. For this reason, you may be given radiation therapy to the head (called prophylactic cranial irradiation, or PCI) to try to prevent this. The radiation is usually given in low doses. Still, some patients may have side effects from the radiation.\"\"\"\n",
        "text2 = \"\"\"For most people with limited stage SCLC, surgery is not an option because the tumor is too large, it’s in a place that can’t be removed easily, or it has spread to nearby lymph nodes or other places in the lung. If you are in good health, the standard treatment is chemo plus radiation to the chest given at the same time (called concurrent chemoradiation). The chemo drugs used are usually etoposide plus either cisplatin or carboplatin.\n",
        "\n",
        "Concurrent chemoradiation can help people with limited stage SCLC live longer and give them a better chance at cure than giving one treatment (or one treatment at a time). The downside is that this combination has more side effects than either chemo or radiation alone, and it can be hard to take.\n",
        "\n",
        "People who aren’t healthy enough for chemoradiation are usually treated with chemo by itself. This may be followed by radiation to the chest.\n",
        "\n",
        "If no measures are taken to prevent it, about half of people with SCLC will have cancer spread to their brain. If your cancer has responded well to initial treatment, you may be given radiation therapy to the head (called prophylactic cranial irradiation, or PCI) to try to prevent this. The radiation is usually given in lower doses than what is used if the cancer had already spread to brain, but some patients may still have side effects from the radiation.\n",
        "\n",
        "Most people treated with chemo (with or without radiation) for limited stage SCLC will have their tumors shrink significantly. In many, the cancer will shrink to the point where it can no longer be seen on imaging tests. Unfortunately, for most people, the cancer will return at some point.\n",
        "\n",
        "Because these cancers are hard to cure, clinical trials of newer treatments may be a good option for some people. If you think you might want to take part in a clinical trial, talk to your doctor.\"\"\"\n",
        "rcm1 = summarize(text1)\n",
        "rcm2 = summarize(text2)"
      ],
      "execution_count": 0,
      "outputs": []
    },
    {
      "metadata": {
        "id": "ec-fLBtMZdAd",
        "colab_type": "code",
        "colab": {}
      },
      "cell_type": "code",
      "source": [
        "def recommend(a):\n",
        "  count = calulate_length(a)\n",
        "  a = a.reshape(1,32, 32, 1)\n",
        "  cancer = model.predict_classes(a, batch_size = None)\n",
        "  if cancer == 1:\n",
        "    if count < 4:\n",
        "      print(rcm1)\n",
        "    else:\n",
        "      print(rcm2)\n",
        "  else:\n",
        "    print(\"I think it's not a nodule\")\n",
        "    "
      ],
      "execution_count": 0,
      "outputs": []
    },
    {
      "metadata": {
        "id": "d4HXvx-QkiRH",
        "colab_type": "code",
        "colab": {
          "base_uri": "https://localhost:8080/",
          "height": 34
        },
        "outputId": "b8cd8e85-1f9d-40c2-b263-3dc041c63d24"
      },
      "cell_type": "code",
      "source": [
        "recommend(training_img[1650])"
      ],
      "execution_count": 83,
      "outputs": [
        {
          "output_type": "stream",
          "text": [
            "I think it's not a nodule\n"
          ],
          "name": "stdout"
        }
      ]
    },
    {
      "metadata": {
        "id": "aVNiK6sXcEwK",
        "colab_type": "code",
        "colab": {
          "base_uri": "https://localhost:8080/",
          "height": 50
        },
        "outputId": "e8e73131-39b9-48e5-d604-1bee88ae1a5b"
      },
      "cell_type": "code",
      "source": [
        "recommend(training_img[1550])"
      ],
      "execution_count": 84,
      "outputs": [
        {
          "output_type": "stream",
          "text": [
            "If cancer is found in the lymph nodes that were removed, radiation therapy to the chest is usually advised as well.\n",
            "You might not be given radiation therapy if you already have severe lung disease (in addition to your cancer) or other serious health problems.\n"
          ],
          "name": "stdout"
        }
      ]
    }
  ]
}