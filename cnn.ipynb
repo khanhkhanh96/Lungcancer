{
  "nbformat": 4,
  "nbformat_minor": 0,
  "metadata": {
    "colab": {
      "name": "lungcancer.ipynb",
      "version": "0.3.2",
      "views": {},
      "default_view": {},
      "provenance": [],
      "collapsed_sections": []
    },
    "kernelspec": {
      "display_name": "Python 3",
      "language": "python",
      "name": "python3"
    },
    "accelerator": "GPU"
  },
  "cells": [
    {
      "metadata": {
        "id": "b6Sjd4PLxFU3",
        "colab_type": "code",
        "colab": {
          "autoexec": {
            "startup": false,
            "wait_interval": 0
          },
          "base_uri": "https://localhost:8080/",
          "height": 227
        },
        "outputId": "f4242941-09e7-4526-fce5-baeb37c322c1",
        "executionInfo": {
          "status": "ok",
          "timestamp": 1532769743256,
          "user_tz": -420,
          "elapsed": 3463,
          "user": {
            "displayName": "Phạm Khánh",
            "photoUrl": "https://lh3.googleusercontent.com/a/default-user=s128",
            "userId": "108013420442388490411"
          }
        }
      },
      "cell_type": "code",
      "source": [
        "!wget https://uacrmq.bn.files.1drv.com/y4mPtAp_KXzt-XhXnjY8PEqYPM-HbV6X12f1QX-Hg4CF_IhG6ViC8OPB5JplcR4npT_1VYCn5fgroDA6_9CjC29nfxjGt3UGsijKtX-duugVAIc1afuBm05uqPHL8jiK2Hc-yVUHxp2F5IzXc-WD25kiScg8UWutj35W5tPvKqyfNnHyTEh2YsgPZjLxA8KKs7Y/datafull.zip\n",
        "  \n",
        " "
      ],
      "execution_count": 1,
      "outputs": [
        {
          "output_type": "stream",
          "text": [
            "--2018-07-28 09:21:30--  https://uacrmq.bn.files.1drv.com/y4mPtAp_KXzt-XhXnjY8PEqYPM-HbV6X12f1QX-Hg4CF_IhG6ViC8OPB5JplcR4npT_1VYCn5fgroDA6_9CjC29nfxjGt3UGsijKtX-duugVAIc1afuBm05uqPHL8jiK2Hc-yVUHxp2F5IzXc-WD25kiScg8UWutj35W5tPvKqyfNnHyTEh2YsgPZjLxA8KKs7Y/datafull.zip\n",
            "Resolving uacrmq.bn.files.1drv.com (uacrmq.bn.files.1drv.com)... 204.79.197.213\n",
            "Connecting to uacrmq.bn.files.1drv.com (uacrmq.bn.files.1drv.com)|204.79.197.213|:443... connected.\n",
            "HTTP request sent, awaiting response... 200 OK\n",
            "Length: 6021179 (5.7M) [application/zip]\n",
            "Saving to: ‘datafull.zip’\n",
            "\n",
            "datafull.zip        100%[===================>]   5.74M  36.5MB/s    in 0.2s    \n",
            "\n",
            "2018-07-28 09:21:32 (36.5 MB/s) - ‘datafull.zip’ saved [6021179/6021179]\n",
            "\n"
          ],
          "name": "stdout"
        }
      ]
    },
    {
      "metadata": {
        "id": "EoA4avPyxZLF",
        "colab_type": "code",
        "colab": {
          "autoexec": {
            "startup": false,
            "wait_interval": 0
          }
        }
      },
      "cell_type": "code",
      "source": [
        "import zipfile\n",
        "zip_ref = zipfile.ZipFile('datafull.zip', 'r')\n",
        "zip_ref.extractall('data2')\n",
        "zip_ref.close()"
      ],
      "execution_count": 0,
      "outputs": []
    },
    {
      "metadata": {
        "id": "toPsKITGcSgp",
        "colab_type": "code",
        "colab": {
          "autoexec": {
            "startup": false,
            "wait_interval": 0
          },
          "base_uri": "https://localhost:8080/",
          "height": 34
        },
        "outputId": "478a4c8b-9551-4aca-b4bb-5e21eab9d523",
        "executionInfo": {
          "status": "ok",
          "timestamp": 1532784871935,
          "user_tz": -420,
          "elapsed": 1924,
          "user": {
            "displayName": "Phạm Khánh",
            "photoUrl": "https://lh3.googleusercontent.com/a/default-user=s128",
            "userId": "108013420442388490411"
          }
        }
      },
      "cell_type": "code",
      "source": [
        "!ls"
      ],
      "execution_count": 63,
      "outputs": [
        {
          "output_type": "stream",
          "text": [
            "0  1  data2  datafull.zip  datalab\r\n"
          ],
          "name": "stdout"
        }
      ]
    },
    {
      "metadata": {
        "id": "80p2ZdIyxnPM",
        "colab_type": "code",
        "colab": {
          "autoexec": {
            "startup": false,
            "wait_interval": 0
          }
        }
      },
      "cell_type": "code",
      "source": [
        "import numpy as np # linear algebra\n",
        "import pandas as pd # data processing, CSV file I/O (e.g. pd.read_csv)\n",
        "import tensorflow as tf\n",
        "import matplotlib.pyplot as plt\n",
        "import cv2\n",
        "import glob\n",
        "import os\n",
        "import keras\n",
        "from keras.datasets import mnist\n",
        "from keras.models import Sequential\n",
        "from keras.layers import Dense, Dropout, Flatten\n",
        "from keras.layers import Conv2D, MaxPooling2D\n",
        "from keras import backend as K"
      ],
      "execution_count": 0,
      "outputs": []
    },
    {
      "metadata": {
        "id": "d5LLF14rqYhJ",
        "colab_type": "code",
        "colab": {
          "autoexec": {
            "startup": false,
            "wait_interval": 0
          }
        }
      },
      "cell_type": "code",
      "source": [
        "#Load dữ liệu tập train và test"
      ],
      "execution_count": 0,
      "outputs": []
    },
    {
      "metadata": {
        "id": "aI_1fwg3xoRe",
        "colab_type": "code",
        "colab": {
          "autoexec": {
            "startup": false,
            "wait_interval": 0
          }
        }
      },
      "cell_type": "code",
      "source": [
        "training_img = []\n",
        "training_label = []\n",
        "for dir_path in glob.glob(\"data2/*\"):\n",
        "    img_label = dir_path.split(\"/\")[-1]\n",
        "    for image_path in glob.glob(os.path.join(dir_path,\"*.npy\")):\n",
        "        \n",
        "        image = np.load(image_path)\n",
        "        training_img.append(image)\n",
        "        training_label.append(img_label)\n",
        "training_img = np.array(training_img)\n",
        "training_label = np.array(training_label)\n"
      ],
      "execution_count": 0,
      "outputs": []
    },
    {
      "metadata": {
        "id": "-fqAgL8GKu-2",
        "colab_type": "code",
        "colab": {
          "autoexec": {
            "startup": false,
            "wait_interval": 0
          }
        }
      },
      "cell_type": "code",
      "source": [
        "from sklearn.utils import shuffle\n",
        "\n",
        "training_img, training_label = shuffle(training_img, training_label)"
      ],
      "execution_count": 0,
      "outputs": []
    },
    {
      "metadata": {
        "id": "K4JZG9k6aWwT",
        "colab_type": "code",
        "colab": {
          "autoexec": {
            "startup": false,
            "wait_interval": 0
          },
          "base_uri": "https://localhost:8080/",
          "height": 34
        },
        "outputId": "5dd24d0b-ea02-42ce-8a0e-3ef322e09159",
        "executionInfo": {
          "status": "ok",
          "timestamp": 1532785456909,
          "user_tz": -420,
          "elapsed": 888,
          "user": {
            "displayName": "Phạm Khánh",
            "photoUrl": "https://lh3.googleusercontent.com/a/default-user=s128",
            "userId": "108013420442388490411"
          }
        }
      },
      "cell_type": "code",
      "source": [
        "K.image_data_format()"
      ],
      "execution_count": 82,
      "outputs": [
        {
          "output_type": "execute_result",
          "data": {
            "text/plain": [
              "'channels_last'"
            ]
          },
          "metadata": {
            "tags": []
          },
          "execution_count": 82
        }
      ]
    },
    {
      "metadata": {
        "id": "-O94kuRtGWeY",
        "colab_type": "code",
        "colab": {
          "autoexec": {
            "startup": false,
            "wait_interval": 0
          }
        }
      },
      "cell_type": "code",
      "source": [
        "datafile = []\n",
        "for img in training_img:\n",
        "  cur = img[1:29,1:29]\n",
        "  datafile.append(cur)"
      ],
      "execution_count": 0,
      "outputs": []
    },
    {
      "metadata": {
        "id": "v_8e8mrLG3PZ",
        "colab_type": "code",
        "colab": {
          "autoexec": {
            "startup": false,
            "wait_interval": 0
          }
        }
      },
      "cell_type": "code",
      "source": [
        "datafile = np.array(datafile)"
      ],
      "execution_count": 0,
      "outputs": []
    },
    {
      "metadata": {
        "id": "4v0Oro-HG80N",
        "colab_type": "code",
        "colab": {
          "autoexec": {
            "startup": false,
            "wait_interval": 0
          },
          "base_uri": "https://localhost:8080/",
          "height": 34
        },
        "outputId": "e9b27ced-47bc-444e-afbc-7014d776a041",
        "executionInfo": {
          "status": "ok",
          "timestamp": 1532786089859,
          "user_tz": -420,
          "elapsed": 857,
          "user": {
            "displayName": "Phạm Khánh",
            "photoUrl": "https://lh3.googleusercontent.com/a/default-user=s128",
            "userId": "108013420442388490411"
          }
        }
      },
      "cell_type": "code",
      "source": [
        "datafile.shape"
      ],
      "execution_count": 108,
      "outputs": [
        {
          "output_type": "execute_result",
          "data": {
            "text/plain": [
              "(3114, 28, 28)"
            ]
          },
          "metadata": {
            "tags": []
          },
          "execution_count": 108
        }
      ]
    },
    {
      "metadata": {
        "id": "QkAgHeHOpG1Y",
        "colab_type": "code",
        "colab": {
          "autoexec": {
            "startup": false,
            "wait_interval": 0
          },
          "base_uri": "https://localhost:8080/",
          "height": 34
        },
        "outputId": "b9b59742-aba0-42dc-f760-81455374763e",
        "executionInfo": {
          "status": "ok",
          "timestamp": 1532769821990,
          "user_tz": -420,
          "elapsed": 732,
          "user": {
            "displayName": "Phạm Khánh",
            "photoUrl": "https://lh3.googleusercontent.com/a/default-user=s128",
            "userId": "108013420442388490411"
          }
        }
      },
      "cell_type": "code",
      "source": [
        "training_img.shape"
      ],
      "execution_count": 10,
      "outputs": [
        {
          "output_type": "execute_result",
          "data": {
            "text/plain": [
              "(3114, 32, 32)"
            ]
          },
          "metadata": {
            "tags": []
          },
          "execution_count": 10
        }
      ]
    },
    {
      "metadata": {
        "id": "2yERcQ0nxxk1",
        "colab_type": "code",
        "colab": {
          "autoexec": {
            "startup": false,
            "wait_interval": 0
          },
          "base_uri": "https://localhost:8080/",
          "height": 864
        },
        "outputId": "d5020080-c71e-4876-987c-840fa9c64ac0",
        "executionInfo": {
          "status": "ok",
          "timestamp": 1532745953284,
          "user_tz": -420,
          "elapsed": 761,
          "user": {
            "displayName": "Phạm Khánh",
            "photoUrl": "https://lh3.googleusercontent.com/a/default-user=s128",
            "userId": "108013420442388490411"
          }
        }
      },
      "cell_type": "code",
      "source": [
        "training_img"
      ],
      "execution_count": 0,
      "outputs": [
        {
          "output_type": "execute_result",
          "data": {
            "text/plain": [
              "array([[[ -989,  -962,  -878, ...,  -130,  -108,    32],\n",
              "        [ -973,  -994,  -946, ...,  -120,  -102,   -46],\n",
              "        [ -932, -1003,  -988, ...,   -75,    -8,    26],\n",
              "        ...,\n",
              "        [-1006, -1002,  -955, ...,  -140,  -130,   -86],\n",
              "        [ -923, -1012,  -969, ...,   -30,  -163,  -151],\n",
              "        [ -866,  -919,  -909, ...,   -98,  -174,    29]],\n",
              "\n",
              "       [[ -376,  -610,  -842, ...,  -963,  -982,  -923],\n",
              "        [ -502,  -760,  -929, ...,  -952, -1024,  -980],\n",
              "        [ -740,  -686,  -849, ...,  -949,  -994,  -974],\n",
              "        ...,\n",
              "        [ -841,  -953, -1024, ...,  -850,  -971,  -894],\n",
              "        [ -998,  -922, -1002, ...,  -773,  -889,  -939],\n",
              "        [ -990,  -967, -1024, ...,  -838,  -888,  -758]],\n",
              "\n",
              "       [[  199,    76,   153, ...,  -904,  -905,  -966],\n",
              "        [  263,   287,   243, ...,  -903,  -900,  -904],\n",
              "        [   96,    69,   135, ...,  -946,  -871,  -830],\n",
              "        ...,\n",
              "        [ -937,  -959, -1002, ..., -1001, -1024, -1024],\n",
              "        [ -914,  -905,  -944, ...,  -662,  -881,  -949],\n",
              "        [ -983,  -932,  -949, ...,  -366,  -839,  -923]],\n",
              "\n",
              "       ...,\n",
              "\n",
              "       [[ -781,  -822,  -832, ...,  -765,  -785,  -809],\n",
              "        [ -836,  -819,  -802, ...,  -538,  -732,  -783],\n",
              "        [ -806,  -832,  -865, ...,  -480,  -740,  -800],\n",
              "        ...,\n",
              "        [ -730,  -620,  -337, ...,  -689,  -430,   -20],\n",
              "        [ -775,  -742,  -721, ...,  -784,  -601,  -132],\n",
              "        [ -784,  -744,  -775, ...,  -823,  -717,  -220]],\n",
              "\n",
              "       [[ -826,  -820,  -805, ...,   272,   190,   165],\n",
              "        [ -818,  -821,  -840, ...,   268,   121,   112],\n",
              "        [ -802,  -792,  -814, ...,   180,    39,    42],\n",
              "        ...,\n",
              "        [ -716,  -408,  -257, ...,   -52,   -19,    -7],\n",
              "        [ -676,  -338,  -109, ...,    12,    22,    31],\n",
              "        [ -704,  -490,  -334, ...,   102,    27,     5]],\n",
              "\n",
              "       [[ -370,  -330,  -328, ...,  -690,  -650,  -613],\n",
              "        [ -389,  -357,  -331, ...,  -745,  -649,  -596],\n",
              "        [ -675,  -713,  -693, ...,  -724,  -633,  -664],\n",
              "        ...,\n",
              "        [ -761,  -756,  -758, ...,  -546,  -734,  -754],\n",
              "        [ -722,  -742,  -768, ...,  -571,  -680,  -732],\n",
              "        [ -729,  -721,  -720, ...,  -651,  -663,  -747]]], dtype=int16)"
            ]
          },
          "metadata": {
            "tags": []
          },
          "execution_count": 42
        }
      ]
    },
    {
      "metadata": {
        "id": "TlVBRAsdxhn_",
        "colab_type": "code",
        "colab": {
          "autoexec": {
            "startup": false,
            "wait_interval": 0
          },
          "base_uri": "https://localhost:8080/",
          "height": 34
        },
        "outputId": "c48b551d-e540-4ce5-f85c-27a429c371d7",
        "executionInfo": {
          "status": "ok",
          "timestamp": 1532786468999,
          "user_tz": -420,
          "elapsed": 715,
          "user": {
            "displayName": "Phạm Khánh",
            "photoUrl": "https://lh3.googleusercontent.com/a/default-user=s128",
            "userId": "108013420442388490411"
          }
        }
      },
      "cell_type": "code",
      "source": [
        "np.min(training_img)"
      ],
      "execution_count": 116,
      "outputs": [
        {
          "output_type": "execute_result",
          "data": {
            "text/plain": [
              "-1493"
            ]
          },
          "metadata": {
            "tags": []
          },
          "execution_count": 116
        }
      ]
    },
    {
      "metadata": {
        "id": "VDnum4MryOBN",
        "colab_type": "code",
        "colab": {
          "autoexec": {
            "startup": false,
            "wait_interval": 0
          },
          "base_uri": "https://localhost:8080/",
          "height": 34
        },
        "outputId": "535e0714-1281-4ca2-9639-da429cb5f0db",
        "executionInfo": {
          "status": "ok",
          "timestamp": 1532786484907,
          "user_tz": -420,
          "elapsed": 717,
          "user": {
            "displayName": "Phạm Khánh",
            "photoUrl": "https://lh3.googleusercontent.com/a/default-user=s128",
            "userId": "108013420442388490411"
          }
        }
      },
      "cell_type": "code",
      "source": [
        "np.max(training_img)+1024"
      ],
      "execution_count": 117,
      "outputs": [
        {
          "output_type": "execute_result",
          "data": {
            "text/plain": [
              "4095"
            ]
          },
          "metadata": {
            "tags": []
          },
          "execution_count": 117
        }
      ]
    },
    {
      "metadata": {
        "id": "nA0Vk1BLNIe_",
        "colab_type": "code",
        "colab": {
          "autoexec": {
            "startup": false,
            "wait_interval": 0
          },
          "base_uri": "https://localhost:8080/",
          "height": 34
        },
        "outputId": "57cd8766-67f2-40de-f612-320918f0e52e",
        "executionInfo": {
          "status": "ok",
          "timestamp": 1532769908407,
          "user_tz": -420,
          "elapsed": 763,
          "user": {
            "displayName": "Phạm Khánh",
            "photoUrl": "https://lh3.googleusercontent.com/a/default-user=s128",
            "userId": "108013420442388490411"
          }
        }
      },
      "cell_type": "code",
      "source": [
        "4095+1493"
      ],
      "execution_count": 15,
      "outputs": [
        {
          "output_type": "execute_result",
          "data": {
            "text/plain": [
              "5588"
            ]
          },
          "metadata": {
            "tags": []
          },
          "execution_count": 15
        }
      ]
    },
    {
      "metadata": {
        "id": "zKRILwsUpP6u",
        "colab_type": "code",
        "colab": {
          "autoexec": {
            "startup": false,
            "wait_interval": 0
          },
          "base_uri": "https://localhost:8080/",
          "height": 34
        },
        "outputId": "e3b5b766-ee0d-48fd-95cc-2a33f269720b",
        "executionInfo": {
          "status": "ok",
          "timestamp": 1532769846831,
          "user_tz": -420,
          "elapsed": 834,
          "user": {
            "displayName": "Phạm Khánh",
            "photoUrl": "https://lh3.googleusercontent.com/a/default-user=s128",
            "userId": "108013420442388490411"
          }
        }
      },
      "cell_type": "code",
      "source": [
        "training_label"
      ],
      "execution_count": 13,
      "outputs": [
        {
          "output_type": "execute_result",
          "data": {
            "text/plain": [
              "array(['0', '0', '0', ..., '1', '1', '1'], dtype='<U1')"
            ]
          },
          "metadata": {
            "tags": []
          },
          "execution_count": 13
        }
      ]
    },
    {
      "metadata": {
        "id": "jhlXmQdPpR8n",
        "colab_type": "code",
        "colab": {
          "autoexec": {
            "startup": false,
            "wait_interval": 0
          }
        }
      },
      "cell_type": "code",
      "source": [
        "# from sklearn.preprocessing import MinMaxScaler\n",
        "\n",
        "# scaler = MinMaxScaler()\n",
        "# datatrain = scaler.fit_transform(training_img.reshape(training_img[0],32*32))"
      ],
      "execution_count": 0,
      "outputs": []
    },
    {
      "metadata": {
        "id": "RJV7FoPYquF2",
        "colab_type": "code",
        "colab": {
          "autoexec": {
            "startup": false,
            "wait_interval": 0
          }
        }
      },
      "cell_type": "code",
      "source": [
        "import numpy as np\n",
        "from sklearn.model_selection import train_test_split\n",
        "\n",
        "X_train, X_test, y_train, y_test = train_test_split(training_img, training_label, test_size=0.2, random_state=42)"
      ],
      "execution_count": 0,
      "outputs": []
    },
    {
      "metadata": {
        "id": "P5UkIc_mxryR",
        "colab_type": "code",
        "colab": {
          "autoexec": {
            "startup": false,
            "wait_interval": 0
          },
          "base_uri": "https://localhost:8080/",
          "height": 1990
        },
        "outputId": "414fa9c2-ef59-4e47-86c6-367f685e40d8",
        "executionInfo": {
          "status": "ok",
          "timestamp": 1532788790050,
          "user_tz": -420,
          "elapsed": 39996,
          "user": {
            "displayName": "Phạm Khánh",
            "photoUrl": "https://lh3.googleusercontent.com/a/default-user=s128",
            "userId": "108013420442388490411"
          }
        }
      },
      "cell_type": "code",
      "source": [
        "#tạo cnn model\n",
        "\n",
        "batch_size = 192\n",
        "num_classes = 2\n",
        "epochs = 50\n",
        "\n",
        "# input image dimensions\n",
        "img_rows, img_cols = 32, 32\n",
        "input_shape = (img_rows,img_cols,1)\n",
        "\n",
        "x_train = X_train.reshape(X_train.shape[0],  img_rows, img_cols, 1)\n",
        "x_test = X_test.reshape(X_test.shape[0], img_rows, img_cols, 1)\n",
        "\n",
        "x_train = x_train.astype('float32')\n",
        "x_test = x_test.astype('float32')\n",
        "y_train = y_train.astype('float32')\n",
        "y_test = y_test.astype('float32')\n",
        "\n",
        "limitbot = 1494\n",
        "limittop = 4096\n",
        "x_test[x_test>0]/=limittop\n",
        "x_test[x_test<0]/=limitbot\n",
        "x_train[x_train>0]/=limittop\n",
        "x_train[x_train<0]/=limitbot\n",
        "\n",
        "\n",
        "print('x_train shape:', X_train.shape)\n",
        "print(X_train.shape[0], 'train samples')\n",
        "print(X_test.shape[0], 'test samples')\n",
        "\n",
        "# chuyển sang onehot vector\n",
        "y_train1h = keras.utils.to_categorical(y_train, num_classes)\n",
        "y_test1h = keras.utils.to_categorical(y_test, num_classes)\n",
        "\n",
        "#tạo checkpoint để lưu lại model tại epoch có giá trị val_acc cao nhất\n",
        "checkpoint = keras.callbacks.ModelCheckpoint(filepath = \"weights.{epoch:02d}-{val_acc:.3f}.hdf5\", monitor='val_acc', verbose=0, save_best_only=True,\n",
        "                                             save_weights_only=False, mode='max', period=1)\n",
        "model = Sequential()\n",
        "\n",
        "model.add(Conv2D(32, kernel_size= (3,3),\n",
        "                 activation='relu',\n",
        "                 input_shape=input_shape))\n",
        "model.add(Conv2D(64, kernel_size = (3,3), activation='relu'))\n",
        "model.add(keras.layers.MaxPooling2D(pool_size=(2, 2)))\n",
        "\n",
        "model.add(Conv2D(32, kernel_size= (3,3),\n",
        "                 activation='relu',\n",
        "                 input_shape=input_shape))\n",
        "model.add(Conv2D(64, kernel_size = (3,3), activation='relu'))\n",
        "model.add(keras.layers.MaxPooling2D(pool_size=(2, 2)))\n",
        "\n",
        "\n",
        "\n",
        "model.add(Dropout(0.5))\n",
        "\n",
        "model.add(Flatten())\n",
        "\n",
        "\n",
        "model.add(Dense(128, activation='relu'))\n",
        "model.add(Dense(num_classes, activation='softmax'))\n",
        "\n",
        "model.compile(loss=keras.losses.categorical_crossentropy,\n",
        "            optimizer = keras.optimizers.Nadam(lr=0.002, beta_1=0.9, beta_2=0.999, epsilon=None, schedule_decay=0.004),\n",
        "             metrics=['accuracy'])\n",
        "model.fit(x_train, y_train1h,\n",
        "        batch_size=batch_size,\n",
        "        epochs=epochs,\n",
        "        verbose=1,\n",
        "        validation_data=(x_test, y_test1h),\n",
        "          callbacks = [checkpoint])\n",
        "score = model.evaluate(x_test, y_test1h, verbose=0)\n",
        "\n",
        "print('Test loss:', score[0])\n",
        "print('Test accuracy:', score[1])\n",
        "\n",
        "from sklearn.metrics import classification_report\n",
        "classes = model.predict_classes(x_test, batch_size = None)\n",
        "print(classification_report(y_test, classes))\n"
      ],
      "execution_count": 143,
      "outputs": [
        {
          "output_type": "stream",
          "text": [
            "x_train shape: (2491, 32, 32)\n",
            "2491 train samples\n",
            "623 test samples\n",
            "Train on 2491 samples, validate on 623 samples\n",
            "Epoch 1/50\n",
            "2491/2491 [==============================] - 6s 3ms/step - loss: 0.7171 - acc: 0.6002 - val_loss: 0.6475 - val_acc: 0.5939\n",
            "Epoch 2/50\n",
            "2491/2491 [==============================] - 1s 226us/step - loss: 0.6257 - acc: 0.6804 - val_loss: 0.5289 - val_acc: 0.7689\n",
            "Epoch 3/50\n",
            "2491/2491 [==============================] - 0s 191us/step - loss: 0.5514 - acc: 0.7278 - val_loss: 0.4948 - val_acc: 0.7785\n",
            "Epoch 4/50\n",
            "2491/2491 [==============================] - 0s 190us/step - loss: 0.5362 - acc: 0.7439 - val_loss: 0.4755 - val_acc: 0.8010\n",
            "Epoch 5/50\n",
            "2491/2491 [==============================] - 0s 189us/step - loss: 0.4958 - acc: 0.7764 - val_loss: 0.4253 - val_acc: 0.8186\n",
            "Epoch 6/50\n",
            "2491/2491 [==============================] - 0s 192us/step - loss: 0.4783 - acc: 0.7808 - val_loss: 0.4417 - val_acc: 0.8138\n",
            "Epoch 7/50\n",
            "2491/2491 [==============================] - 0s 189us/step - loss: 0.4663 - acc: 0.7957 - val_loss: 0.4592 - val_acc: 0.8026\n",
            "Epoch 8/50\n",
            "2491/2491 [==============================] - 0s 189us/step - loss: 0.4227 - acc: 0.8185 - val_loss: 0.3644 - val_acc: 0.8443\n",
            "Epoch 9/50\n",
            "2491/2491 [==============================] - 0s 189us/step - loss: 0.3884 - acc: 0.8294 - val_loss: 0.4515 - val_acc: 0.7961\n",
            "Epoch 10/50\n",
            "2491/2491 [==============================] - 0s 189us/step - loss: 0.3944 - acc: 0.8254 - val_loss: 0.4019 - val_acc: 0.8555\n",
            "Epoch 11/50\n",
            "2491/2491 [==============================] - 0s 188us/step - loss: 0.3471 - acc: 0.8555 - val_loss: 0.3365 - val_acc: 0.8523\n",
            "Epoch 12/50\n",
            "2491/2491 [==============================] - 0s 190us/step - loss: 0.3590 - acc: 0.8519 - val_loss: 0.3407 - val_acc: 0.8443\n",
            "Epoch 13/50\n",
            "2112/2491 [========================>.....] - ETA: 0s - loss: 0.3334 - acc: 0.8655"
          ],
          "name": "stdout"
        },
        {
          "output_type": "stream",
          "text": [
            "2491/2491 [==============================] - 0s 189us/step - loss: 0.3362 - acc: 0.8635 - val_loss: 0.3283 - val_acc: 0.8732\n",
            "Epoch 14/50\n",
            "2491/2491 [==============================] - 0s 192us/step - loss: 0.3094 - acc: 0.8699 - val_loss: 0.3112 - val_acc: 0.8828\n",
            "Epoch 15/50\n",
            "2491/2491 [==============================] - 0s 189us/step - loss: 0.3230 - acc: 0.8695 - val_loss: 0.3291 - val_acc: 0.8652\n",
            "Epoch 16/50\n",
            "2491/2491 [==============================] - 0s 196us/step - loss: 0.2999 - acc: 0.8784 - val_loss: 0.2976 - val_acc: 0.8812\n",
            "Epoch 17/50\n",
            "2491/2491 [==============================] - 0s 190us/step - loss: 0.2873 - acc: 0.8816 - val_loss: 0.3113 - val_acc: 0.8732\n",
            "Epoch 18/50\n",
            "2491/2491 [==============================] - 0s 190us/step - loss: 0.2667 - acc: 0.9045 - val_loss: 0.3073 - val_acc: 0.8764\n",
            "Epoch 19/50\n",
            "2491/2491 [==============================] - 0s 191us/step - loss: 0.2617 - acc: 0.8948 - val_loss: 0.3221 - val_acc: 0.8620\n",
            "Epoch 20/50\n",
            "2491/2491 [==============================] - 0s 190us/step - loss: 0.2562 - acc: 0.9089 - val_loss: 0.2959 - val_acc: 0.8684\n",
            "Epoch 21/50\n",
            "2491/2491 [==============================] - 0s 193us/step - loss: 0.2459 - acc: 0.9053 - val_loss: 0.2918 - val_acc: 0.8796\n",
            "Epoch 22/50\n",
            "2491/2491 [==============================] - 0s 190us/step - loss: 0.2156 - acc: 0.9173 - val_loss: 0.2881 - val_acc: 0.8700\n",
            "Epoch 23/50\n",
            "2491/2491 [==============================] - 0s 192us/step - loss: 0.2144 - acc: 0.9169 - val_loss: 0.2987 - val_acc: 0.8684\n",
            "Epoch 24/50\n",
            "2491/2491 [==============================] - 0s 195us/step - loss: 0.2034 - acc: 0.9161 - val_loss: 0.2984 - val_acc: 0.8812\n",
            "Epoch 25/50\n",
            "2491/2491 [==============================] - 0s 190us/step - loss: 0.1816 - acc: 0.9269 - val_loss: 0.3207 - val_acc: 0.8828\n",
            "Epoch 26/50\n",
            " 192/2491 [=>............................] - ETA: 0s - loss: 0.1586 - acc: 0.9427"
          ],
          "name": "stdout"
        },
        {
          "output_type": "stream",
          "text": [
            "2491/2491 [==============================] - 0s 192us/step - loss: 0.1897 - acc: 0.9249 - val_loss: 0.3762 - val_acc: 0.8475\n",
            "Epoch 27/50\n",
            "2491/2491 [==============================] - 0s 192us/step - loss: 0.1771 - acc: 0.9253 - val_loss: 0.3029 - val_acc: 0.8764\n",
            "Epoch 28/50\n",
            "2491/2491 [==============================] - 0s 188us/step - loss: 0.1487 - acc: 0.9446 - val_loss: 0.2979 - val_acc: 0.8925\n",
            "Epoch 29/50\n",
            "2491/2491 [==============================] - 0s 193us/step - loss: 0.1528 - acc: 0.9422 - val_loss: 0.2956 - val_acc: 0.8764\n",
            "Epoch 30/50\n",
            "2491/2491 [==============================] - 0s 191us/step - loss: 0.1342 - acc: 0.9502 - val_loss: 0.3934 - val_acc: 0.8716\n",
            "Epoch 31/50\n",
            "2491/2491 [==============================] - 0s 192us/step - loss: 0.1441 - acc: 0.9490 - val_loss: 0.3192 - val_acc: 0.8764\n",
            "Epoch 32/50\n",
            "2491/2491 [==============================] - 0s 192us/step - loss: 0.1414 - acc: 0.9462 - val_loss: 0.4436 - val_acc: 0.8475\n",
            "Epoch 33/50\n",
            "2491/2491 [==============================] - 0s 187us/step - loss: 0.1529 - acc: 0.9410 - val_loss: 0.3140 - val_acc: 0.8780\n",
            "Epoch 34/50\n",
            "2491/2491 [==============================] - 0s 193us/step - loss: 0.1427 - acc: 0.9442 - val_loss: 0.3110 - val_acc: 0.8828\n",
            "Epoch 35/50\n",
            "2491/2491 [==============================] - 0s 188us/step - loss: 0.0982 - acc: 0.9635 - val_loss: 0.3527 - val_acc: 0.8860\n",
            "Epoch 36/50\n",
            "2491/2491 [==============================] - 0s 189us/step - loss: 0.1065 - acc: 0.9587 - val_loss: 0.3393 - val_acc: 0.8764\n",
            "Epoch 37/50\n",
            "2491/2491 [==============================] - 0s 193us/step - loss: 0.0858 - acc: 0.9675 - val_loss: 0.3584 - val_acc: 0.8796\n",
            "Epoch 38/50\n",
            "2491/2491 [==============================] - 0s 190us/step - loss: 0.0887 - acc: 0.9659 - val_loss: 0.3883 - val_acc: 0.8892\n",
            "Epoch 39/50\n",
            " 192/2491 [=>............................] - ETA: 0s - loss: 0.0740 - acc: 0.9792"
          ],
          "name": "stdout"
        },
        {
          "output_type": "stream",
          "text": [
            "2491/2491 [==============================] - 0s 194us/step - loss: 0.0973 - acc: 0.9631 - val_loss: 0.4136 - val_acc: 0.8876\n",
            "Epoch 40/50\n",
            "2491/2491 [==============================] - 0s 193us/step - loss: 0.0879 - acc: 0.9663 - val_loss: 0.3587 - val_acc: 0.8925\n",
            "Epoch 41/50\n",
            "2491/2491 [==============================] - 0s 190us/step - loss: 0.1404 - acc: 0.9426 - val_loss: 0.5380 - val_acc: 0.8459\n",
            "Epoch 42/50\n",
            "2491/2491 [==============================] - 0s 190us/step - loss: 0.1468 - acc: 0.9474 - val_loss: 0.3188 - val_acc: 0.8860\n",
            "Epoch 43/50\n",
            "2491/2491 [==============================] - 0s 188us/step - loss: 0.0918 - acc: 0.9667 - val_loss: 0.3529 - val_acc: 0.8860\n",
            "Epoch 44/50\n",
            "2491/2491 [==============================] - 0s 188us/step - loss: 0.0581 - acc: 0.9795 - val_loss: 0.4143 - val_acc: 0.8780\n",
            "Epoch 45/50\n",
            "2491/2491 [==============================] - 0s 192us/step - loss: 0.0530 - acc: 0.9807 - val_loss: 0.4592 - val_acc: 0.8780\n",
            "Epoch 46/50\n",
            "2491/2491 [==============================] - 0s 191us/step - loss: 0.0803 - acc: 0.9703 - val_loss: 0.4455 - val_acc: 0.8732\n",
            "Epoch 47/50\n",
            "2491/2491 [==============================] - 0s 190us/step - loss: 0.0658 - acc: 0.9747 - val_loss: 0.4094 - val_acc: 0.8732\n",
            "Epoch 48/50\n",
            "2491/2491 [==============================] - 0s 191us/step - loss: 0.0556 - acc: 0.9819 - val_loss: 0.4162 - val_acc: 0.8860\n",
            "Epoch 49/50\n",
            "2491/2491 [==============================] - 0s 190us/step - loss: 0.0536 - acc: 0.9819 - val_loss: 0.4073 - val_acc: 0.8909\n",
            "Epoch 50/50\n",
            "2491/2491 [==============================] - 0s 189us/step - loss: 0.0662 - acc: 0.9755 - val_loss: 0.4272 - val_acc: 0.8748\n",
            "Test loss: 0.42715693732804316\n",
            "Test accuracy: 0.874799358041099\n",
            "             precision    recall  f1-score   support\n",
            "\n",
            "        0.0       0.87      0.88      0.87       308\n",
            "        1.0       0.88      0.87      0.88       315\n",
            "\n",
            "avg / total       0.87      0.87      0.87       623\n",
            "\n"
          ],
          "name": "stdout"
        }
      ]
    },
    {
      "metadata": {
        "id": "wQc3lRHSR2YH",
        "colab_type": "code",
        "colab": {
          "autoexec": {
            "startup": false,
            "wait_interval": 0
          },
          "base_uri": "https://localhost:8080/",
          "height": 138
        },
        "outputId": "83c8155e-cb7d-464b-a094-2596d676b3ca",
        "executionInfo": {
          "status": "ok",
          "timestamp": 1532788947570,
          "user_tz": -420,
          "elapsed": 16413,
          "user": {
            "displayName": "Phạm Khánh",
            "photoUrl": "https://lh3.googleusercontent.com/a/default-user=s128",
            "userId": "108013420442388490411"
          }
        }
      },
      "cell_type": "code",
      "source": [
        "from keras.models import load_model\n",
        "\n",
        "modelbest = load_model('weights.32-0.902.hdf5')\n",
        "\n",
        "from sklearn.metrics import classification_report\n",
        "\n",
        "classes = modelbest.predict_classes(x_test, batch_size = None)\n",
        "print(classification_report(y_test, classes))"
      ],
      "execution_count": 144,
      "outputs": [
        {
          "output_type": "stream",
          "text": [
            "             precision    recall  f1-score   support\n",
            "\n",
            "        0.0       0.89      0.92      0.90       308\n",
            "        1.0       0.92      0.89      0.90       315\n",
            "\n",
            "avg / total       0.90      0.90      0.90       623\n",
            "\n"
          ],
          "name": "stdout"
        }
      ]
    },
    {
      "metadata": {
        "id": "vZS0tgIcJzm5",
        "colab_type": "code",
        "colab": {
          "autoexec": {
            "startup": false,
            "wait_interval": 0
          }
        }
      },
      "cell_type": "code",
      "source": [
        "\n",
        "\n",
        "\n"
      ],
      "execution_count": 0,
      "outputs": []
    },
    {
      "metadata": {
        "id": "59bZinU2V7uh",
        "colab_type": "code",
        "colab": {
          "autoexec": {
            "startup": false,
            "wait_interval": 0
          }
        }
      },
      "cell_type": "code",
      "source": [
        "\n"
      ],
      "execution_count": 0,
      "outputs": []
    },
    {
      "metadata": {
        "id": "iN_UTsINoJMX",
        "colab_type": "code",
        "colab": {
          "autoexec": {
            "startup": false,
            "wait_interval": 0
          }
        }
      },
      "cell_type": "code",
      "source": [
        ""
      ],
      "execution_count": 0,
      "outputs": []
    },
    {
      "metadata": {
        "id": "insD6QFcpHb3",
        "colab_type": "code",
        "colab": {
          "autoexec": {
            "startup": false,
            "wait_interval": 0
          }
        }
      },
      "cell_type": "code",
      "source": [
        ""
      ],
      "execution_count": 0,
      "outputs": []
    },
    {
      "metadata": {
        "id": "RjLVFWlK6Ikz",
        "colab_type": "code",
        "colab": {
          "autoexec": {
            "startup": false,
            "wait_interval": 0
          }
        }
      },
      "cell_type": "code",
      "source": [
        "\n"
      ],
      "execution_count": 0,
      "outputs": []
    },
    {
      "metadata": {
        "id": "_rjiAXn8vI_u",
        "colab_type": "code",
        "colab": {
          "autoexec": {
            "startup": false,
            "wait_interval": 0
          }
        }
      },
      "cell_type": "code",
      "source": [
        ""
      ],
      "execution_count": 0,
      "outputs": []
    },
    {
      "metadata": {
        "id": "ElaYGXHRB6s5",
        "colab_type": "code",
        "colab": {
          "autoexec": {
            "startup": false,
            "wait_interval": 0
          },
          "base_uri": "https://localhost:8080/",
          "height": 173
        },
        "outputId": "9c6b2fbd-9aef-4562-f89c-f202edd9d92f",
        "executionInfo": {
          "status": "ok",
          "timestamp": 1532787810956,
          "user_tz": -420,
          "elapsed": 1798,
          "user": {
            "displayName": "Phạm Khánh",
            "photoUrl": "https://lh3.googleusercontent.com/a/default-user=s128",
            "userId": "108013420442388490411"
          }
        }
      },
      "cell_type": "code",
      "source": [
        "!ls"
      ],
      "execution_count": 134,
      "outputs": [
        {
          "output_type": "stream",
          "text": [
            "0\t\t       weights.03-0.772.hdf5  weights.13-0.851.hdf5\r\n",
            "1\t\t       weights.05-0.798.hdf5  weights.14-0.878.hdf5\r\n",
            "data2\t\t       weights.05-0.820.hdf5  weights.15-0.851.hdf5\r\n",
            "datafull.zip\t       weights.06-0.812.hdf5  weights.16-0.867.hdf5\r\n",
            "datalab\t\t       weights.08-0.836.hdf5  weights.17-0.897.hdf5\r\n",
            "weights.01-0.496.hdf5  weights.09-0.831.hdf5  weights.19-0.886.hdf5\r\n",
            "weights.01-0.700.hdf5  weights.10-0.851.hdf5  weights.32-0.902.hdf5\r\n",
            "weights.02-0.539.hdf5  weights.11-0.849.hdf5  weights.42-0.892.hdf5\r\n",
            "weights.03-0.766.hdf5  weights.12-0.867.hdf5  weights.45-0.899.hdf5\r\n"
          ],
          "name": "stdout"
        }
      ]
    },
    {
      "metadata": {
        "id": "LznfoHZsaA7c",
        "colab_type": "code",
        "colab": {
          "autoexec": {
            "startup": false,
            "wait_interval": 0
          }
        }
      },
      "cell_type": "code",
      "source": [
        "from google.colab import files\n",
        "files.download('weights.32-0.902.hdf5')  # from colab to browser download\n"
      ],
      "execution_count": 0,
      "outputs": []
    },
    {
      "metadata": {
        "id": "Hxl9924z5IVY",
        "colab_type": "code",
        "colab": {
          "autoexec": {
            "startup": false,
            "wait_interval": 0
          }
        }
      },
      "cell_type": "code",
      "source": [
        ""
      ],
      "execution_count": 0,
      "outputs": []
    },
    {
      "metadata": {
        "id": "5OW13nTE2jWH",
        "colab_type": "code",
        "colab": {
          "autoexec": {
            "startup": false,
            "wait_interval": 0
          }
        }
      },
      "cell_type": "code",
      "source": [
        ""
      ],
      "execution_count": 0,
      "outputs": []
    },
    {
      "metadata": {
        "id": "EIOYNnqX59U2",
        "colab_type": "code",
        "colab": {
          "autoexec": {
            "startup": false,
            "wait_interval": 0
          }
        }
      },
      "cell_type": "code",
      "source": [
        ""
      ],
      "execution_count": 0,
      "outputs": []
    }
  ]
}